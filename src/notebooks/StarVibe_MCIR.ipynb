{
 "cells": [
  {
   "cell_type": "markdown",
   "metadata": {},
   "source": [
    "# MCIR Reconstruction of StarVibe data"
   ]
  },
  {
   "cell_type": "code",
   "execution_count": 4,
   "metadata": {},
   "outputs": [],
   "source": [
    "import sirf.Gadgetron as pMR\n",
    "\n",
    "import numpy as np\n",
    "\n",
    "%matplotlib widget\n",
    "import matplotlib.pyplot as plt"
   ]
  },
  {
   "cell_type": "markdown",
   "metadata": {},
   "source": [
    "## Preparation\n",
    "This code works with SIRF-branch ignore-acq\n",
    "\n",
    "\n",
    "Currently there is a bug in the coil sensitivity map estimation. See https://github.com/SyneRBI/SIRF/issues/1221\n",
    "\n",
    "To solve this temporarily:\n",
    "Remove \"&& object_mask[i]\" from the code here \n",
    "https://github.com/SyneRBI/SIRF/blob/1bb1b111a80f48df5e491a8ee9201715d4e9db42/src/xGadgetron/cGadgetron/gadgetron_data_containers.cpp#L2811C33-L2811C48\n",
    "\n",
    "and compile code again."
   ]
  },
  {
   "cell_type": "markdown",
   "metadata": {},
   "source": [
    "## Define trajectory \n",
    "\n",
    "StarVibe uses a stack-of-stars trajectory with a Golden angle increment. "
   ]
  },
  {
   "cell_type": "code",
   "execution_count": 5,
   "metadata": {},
   "outputs": [],
   "source": [
    "# Trajectory for Golden angle radial acquisitions\n",
    "def calc_rad_traj_golden(ad):\n",
    "    dims = ad.dimensions()\n",
    "    kx = np.linspace(-dims[2]//2, dims[2]//2, dims[2])\n",
    "    ky = ad.get_ISMRMRD_info('kspace_encode_step_1')\n",
    "    \n",
    "    # Define angle with Golden angle increment\n",
    "    angRad = ky * np.pi * 0.618034\n",
    "\n",
    "    # Normalise radial points between [-0.5 0.5]\n",
    "    krad = kx\n",
    "    krad = krad / (np.amax(np.abs(krad)) * 2)\n",
    "\n",
    "    # Calculate trajectory\n",
    "    rad_traj = np.zeros((dims[2], dims[0], 2), dtype=np.float32)\n",
    "    rad_traj[:, :, 0] = krad.reshape(-1, 1) * np.cos(angRad)\n",
    "    rad_traj[:, :, 1] = krad.reshape(-1, 1) * np.sin(angRad)\n",
    "    rad_traj = np.moveaxis(rad_traj, 0, 1)\n",
    "    return(rad_traj)"
   ]
  },
  {
   "cell_type": "markdown",
   "metadata": {},
   "source": [
    "## Reconstruct motion corrupted data set"
   ]
  },
  {
   "cell_type": "code",
   "execution_count": 8,
   "metadata": {},
   "outputs": [
    {
     "name": "stdout",
     "output_type": "stream",
     "text": [
      "reading from /data/Paul/meas_MID00037_FID08328_Tho_starvibe_BodyCOMPASS_USER_noFS_kz38.h5 using ignore mask 0000 0000 0000 0000 0000 0000 0000 0000 0000 0000 0000 0100 0000 0000 0000 0000 \n",
      "Started reading acquisitions from /data/Paul/meas_MID00037_FID08328_Tho_starvibe_BodyCOMPASS_USER_noFS_kz38.h5\n",
      "0%..10%..20%..31%..40%..50%..61%..70%..80%..90%..\n",
      "Finished reading acquisitions from /data/Paul/meas_MID00037_FID08328_Tho_starvibe_BodyCOMPASS_USER_noFS_kz38.h5\n",
      "Dimensions of acq data: (60800, 18, 384)\n",
      "Angle index goes from 0 to 1599\n",
      "Angle index goes from 0 to 37\n"
     ]
    }
   ],
   "source": [
    "# Read in data\n",
    "\n",
    "filename = '/data/Paul/' + 'meas_MID00037_FID08328_Tho_starvibe_BodyCOMPASS_USER_noFS_kz38.h5'\n",
    "\n",
    "# Nothing to ignore except for noise samples\n",
    "ignored = pMR.IgnoreMask() \n",
    "acq_data = pMR.AcquisitionData(filename, False, ignored=ignored)\n",
    "acq_data.sort_by_time()\n",
    "\n",
    "# Get k-space dimensions and encoding limits\n",
    "print(f'Dimensions of acq data: {acq_data.dimensions()}')\n",
    "\n",
    "encode_step_1 = acq_data.get_ISMRMRD_info('kspace_encode_step_1')\n",
    "print(f'Angle index goes from {np.min(encode_step_1)} to {np.max(encode_step_1)}')\n",
    "encode_step_2 = acq_data.get_ISMRMRD_info('kspace_encode_step_2')\n",
    "print(f'Slice index goes from {np.min(encode_step_2)} to {np.max(encode_step_2)}')"
   ]
  },
  {
   "cell_type": "code",
   "execution_count": 9,
   "metadata": {},
   "outputs": [
    {
     "data": {
      "text/plain": [
       "<sirf.Gadgetron.AcquisitionData at 0x7f6704e160a0>"
      ]
     },
     "execution_count": 9,
     "metadata": {},
     "output_type": "execute_result"
    }
   ],
   "source": [
    "# Now we create the trajectory and set it\n",
    "ktraj = calc_rad_traj_golden(acq_data)\n",
    "pMR.set_radial2D_trajectory(acq_data, ktraj)"
   ]
  },
  {
   "cell_type": "code",
   "execution_count": 10,
   "metadata": {},
   "outputs": [],
   "source": [
    "# Calculate the coil sensitivity maps\n",
    "csm = pMR.CoilSensitivityData()\n",
    "csm.smoothness = 100\n",
    "csm.calculate(acq_data)\n",
    "csm_arr = csm.as_array()\n",
    "print(csm_arr.shape)"
   ]
  },
  {
   "cell_type": "code",
   "execution_count": null,
   "metadata": {},
   "outputs": [],
   "source": [
    "# Visualise coil maps\n",
    "fig, ax = plt.subplots(4,5) # 4 coils, 5 slices\n",
    "slice_step = csm_arr.shape[0]//ax.shape[1]\n",
    "for cnd in range(ax.shape[0]):\n",
    "    for snd in range(ax.shape[1]):\n",
    "        ax[cnd,snd].imshow(np.abs(csm_arr[slice_step*snd,:,cnd,:]))"
   ]
  },
  {
   "cell_type": "code",
   "execution_count": null,
   "metadata": {},
   "outputs": [],
   "source": [
    "# Define acquisition model\n",
    "E_sos = pMR.AcquisitionModel(acqs=acq_data, imgs=csm)\n",
    "E_sos.set_coil_sensitivity_maps(csm)"
   ]
  },
  {
   "cell_type": "code",
   "execution_count": null,
   "metadata": {},
   "outputs": [],
   "source": [
    "# Reconstruct images\n",
    "im_data = E_sos.inverse(acq_data)"
   ]
  },
  {
   "cell_type": "code",
   "execution_count": null,
   "metadata": {},
   "outputs": [],
   "source": [
    "# Visualise images\n",
    "fig, ax = plt.subplots(2,5) # 2 views, 5 slices\n",
    "z_step = csm_arr.shape[0]//ax.shape[1]\n",
    "y_step = csm_arr.shape[1]//ax.shape[1]\n",
    "for ind in range(ax.shape[1]):\n",
    "    ax[0,ind].imshow(np.abs(csm_arr[z_step*ind,:,0,:]))\n",
    "    ax[1,ind].imshow(np.abs(csm_arr[:,y_step*ind,0,:]))"
   ]
  },
  {
   "cell_type": "markdown",
   "metadata": {},
   "source": [
    "## Reconstruction of motion resolved images\n",
    "\n",
    "### ToDo\n",
    "\n",
    "- Find k-space center (kz=kx=0) values for each angle\n",
    "- Extract k-space values and apply filter to get smooth breathing signal (ideally we would use a PCA analysis over the coil dimension)\n",
    "- Split data into different respiratory bins based on motion signal\n",
    "- Reconstruct motion resolved data\n",
    "\n",
    "Further info can be found here:\n",
    "https://github.com/SyneRBI/SIRF-Exercises/blob/MCIR_CIL/notebooks/MR/h_mr_mcir_grpe.ipynb"
   ]
  }
 ],
 "metadata": {
  "kernelspec": {
   "display_name": "RecoEnv",
   "language": "python",
   "name": "python3"
  },
  "language_info": {
   "codemirror_mode": {
    "name": "ipython",
    "version": 3
   },
   "file_extension": ".py",
   "mimetype": "text/x-python",
   "name": "python",
   "nbconvert_exporter": "python",
   "pygments_lexer": "ipython3",
   "version": "3.8.18"
  }
 },
 "nbformat": 4,
 "nbformat_minor": 2
}
